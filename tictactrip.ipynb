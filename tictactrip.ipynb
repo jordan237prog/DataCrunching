{
 "cells": [
  {
   "cell_type": "markdown",
   "id": "a570cb9c",
   "metadata": {},
   "source": [
    "# Pas\n",
    "   ### Lire les fichiers csv\n",
    "       1. écrire un script qui vérifie si nous avons des fichiers csv dans le répertoire de travail\n",
    "       2. écrire le script pour les charger\n",
    "       3. enregistrez ce script en tant que module (utils.py)\n",
    "       4. importez le module util et utilisez-le pour charger les fichiers csv en tant que trames de données\n",
    "   ### Nettoyage des données\n",
    "       1. vérifier les valeurs NaN les remplacer ou les supprimer, selon l'impact qu'elles auront sur nos résultats\n",
    "       2. Vérification du type de données, chaque colonne doit avoir le même type de données(data type)\n",
    "       3. nous pouvons ajouter des colonnes pertinentes et nécessaires (calculées ou dérivées d'autres colonnes)\n",
    "       4. analyser et choisir la ou les colonnes qui seront utilisées pour relier et combiner nos dataframes\n",
    "       5. combiner nos dataframes pour former un dataframe propre et organisé\n",
    "       \n",
    "  ### Etraction d'infos intéressante\n",
    "       1. prix min, max et moyen\n",
    "       2. durée min, max et moyenne par trajet\n",
    "       3. différence de prix moyenne et durée selon le train, le bus et le covoiturage selon la distance du trajet (0-200km, 201-800km, 800-2000km, 2000+km)\n",
    "      \n",
    " ### Conclusion"
   ]
  },
  {
   "cell_type": "markdown",
   "id": "4dcd5b94",
   "metadata": {},
   "source": [
    "### Lire les fichiers csv"
   ]
  },
  {
   "cell_type": "code",
   "execution_count": 1,
   "id": "c688f750",
   "metadata": {},
   "outputs": [],
   "source": [
    "#imports\n",
    "import pandas as pd\n",
    "import numpy as np\n",
    "import matplotlib.pyplot as plt\n",
    "import utils as ut"
   ]
  },
  {
   "cell_type": "code",
   "execution_count": 2,
   "id": "a3134962",
   "metadata": {},
   "outputs": [
    {
     "data": {
      "text/plain": [
       "['cities.csv', 'providers.csv', 'stations.csv', 'ticket_data.csv']"
      ]
     },
     "execution_count": 2,
     "metadata": {},
     "output_type": "execute_result"
    }
   ],
   "source": [
    "# nous vérifions si nous avons tous les fichiers requis dans le répertoire courant\n",
    "ut.list_file_with_extension_cur_glob ('csv')"
   ]
  },
  {
   "cell_type": "code",
   "execution_count": 3,
   "id": "4b95c7d9",
   "metadata": {},
   "outputs": [],
   "source": [
    "#chargeons nos fichiers csv en tant que dateframe\n",
    "\n",
    "cities = ut.read_dataset('cities.csv')\n",
    "providers = ut.read_dataset('providers.csv')\n",
    "stations = ut.read_dataset('stations.csv')\n",
    "tickets = ut.read_dataset('ticket_data.csv')"
   ]
  },
  {
   "cell_type": "markdown",
   "id": "a2fc0a87",
   "metadata": {},
   "source": [
    "### Nettoyage des données"
   ]
  },
  {
   "cell_type": "code",
   "execution_count": 4,
   "id": "cb48df94",
   "metadata": {},
   "outputs": [],
   "source": [
    "# nous utilisons des fonctions prédéfinies dans nos modules utils\n",
    "tickets_version_one = ut.replace_nan_for_middle_stations_and_other_companies_with_zero(tickets)\n",
    "tickets_version_one"
   ]
  },
  {
   "cell_type": "code",
   "execution_count": 5,
   "id": "148d836b",
   "metadata": {},
   "outputs": [],
   "source": [
    "#changer le type de données des dates de chaîne en datetime (pour permettre l'utilisation pour obtenir facilement la durée du voyage)\n",
    "tickets_version_two = ut.change_date_data_type_from_string_to_datetime(tickets_version_one)\n",
    "tickets_version_two"
   ]
  },
  {
   "cell_type": "code",
   "execution_count": 6,
   "id": "0b6f9239",
   "metadata": {},
   "outputs": [],
   "source": [
    "#ajouter la durée du trajet en heures à l'aide des colonnes depart_ts et arrivée_ts\n",
    "tickets_version_three = ut.add_trip_duration_column_to_ticket_data(tickets_version_two)\n",
    "tickets_version_three"
   ]
  },
  {
   "cell_type": "code",
   "execution_count": 7,
   "id": "13bb68d9",
   "metadata": {},
   "outputs": [],
   "source": [
    "# colonnes de population contient des NaN, nous pouvons donc résoudre ce problème en :\n",
    "# nous pourrions utiliser une API de population mais cela peut prendre plus de temps (mais nous n'avons qu'une semaine)\n",
    "# remplacer le NaN par la valeur minimale dans la colonne population (c'est ce que nous allons faire)\n",
    "\n",
    "cities['population'] = cities['population'].replace( np.nan, cities['population'].min())\n",
    "cities"
   ]
  },
  {
   "cell_type": "code",
   "execution_count": 8,
   "id": "ac2abd40",
   "metadata": {
    "scrolled": true
   },
   "outputs": [],
   "source": [
    "# on voit que le fournisseur peut être identifié de manière unique par :\n",
    "# identifiant\n",
    "# plus loin, nous voyons que le company_id est vu dans le dataframe du fournisseur comme id\n",
    "# donc c'est ok pour éviter d'utiliser l'identifiant de l'entreprise (il ne contient pas non plus de valeurs int64)\n",
    "\n",
    "clean_providers = ut.clean_up_providers_data_frame(providers)\n",
    "clean_providers"
   ]
  },
  {
   "cell_type": "markdown",
   "id": "889f56aa",
   "metadata": {},
   "source": [
    "## Fusionner les dataframes pour avoir un dataframe"
   ]
  },
  {
   "cell_type": "code",
   "execution_count": 9,
   "id": "7c204ba5",
   "metadata": {},
   "outputs": [],
   "source": [
    "# fusionner provider et tickets_data en utillisant company_id, car il est présent dans les deux tables\n",
    "ticket_provider = pd.merge(left=tickets_version_three, right=clean_providers, left_on='company', right_on='id')\n",
    "ticket_provider"
   ]
  },
  {
   "cell_type": "code",
   "execution_count": 10,
   "id": "a77409a8",
   "metadata": {},
   "outputs": [],
   "source": [
    "# fusion des villes avec tickets_provider\n",
    "ticket_provider_city = ut.join_city_to_ticket_data(cities, ticket_provider)\n",
    "ticket_provider_city"
   ]
  },
  {
   "cell_type": "code",
   "execution_count": 11,
   "id": "bb8c6c07",
   "metadata": {
    "scrolled": true
   },
   "outputs": [],
   "source": [
    "# all_data contient des informations sur les quatre dataframes\n",
    "all_data = ut.merge_ticket_to_station(ticket_provider_city, stations)\n",
    "all_data"
   ]
  },
  {
   "cell_type": "code",
   "execution_count": 12,
   "id": "4de1bc38",
   "metadata": {},
   "outputs": [],
   "source": [
    "# ici, nous ajoutons la distance du trajet en km (en utilisant la longitude et la latitude des villes et des stations)\n",
    "all_data_trip_distance = ut.distance(all_data, 'city')\n",
    "# all_data_trip_distance = ut.distance(all_data, 'station')\n",
    "all_data_trip_distance"
   ]
  },
  {
   "cell_type": "markdown",
   "id": "c001bd6e",
   "metadata": {},
   "source": [
    "## Etraction d'infos intéressante\n",
    "    1. Prix min, moyen et max par trajet\n",
    "    2. Durée min, max et moyenne par trajet\n",
    "    3. Différence de prix moyen et durée selon le train, le bus et le covoit selon la distance du trajet (0-200km, 201-800km, 800-2000km, 2000+km)\n",
    "    Le plus d’infos bonus"
   ]
  },
  {
   "cell_type": "markdown",
   "id": "9704d798",
   "metadata": {},
   "source": [
    "#### 1 Prix min, moyen et max par trajet(price_variations)"
   ]
  },
  {
   "cell_type": "code",
   "execution_count": 13,
   "id": "81bf18d2",
   "metadata": {},
   "outputs": [
    {
     "data": {
      "text/html": [
       "<div>\n",
       "<style scoped>\n",
       "    .dataframe tbody tr th:only-of-type {\n",
       "        vertical-align: middle;\n",
       "    }\n",
       "\n",
       "    .dataframe tbody tr th {\n",
       "        vertical-align: top;\n",
       "    }\n",
       "\n",
       "    .dataframe thead th {\n",
       "        text-align: right;\n",
       "    }\n",
       "</style>\n",
       "<table border=\"1\" class=\"dataframe\">\n",
       "  <thead>\n",
       "    <tr style=\"text-align: right;\">\n",
       "      <th></th>\n",
       "      <th></th>\n",
       "      <th>min</th>\n",
       "      <th>max</th>\n",
       "      <th>mean</th>\n",
       "    </tr>\n",
       "    <tr>\n",
       "      <th>o_city</th>\n",
       "      <th>d_city</th>\n",
       "      <th></th>\n",
       "      <th></th>\n",
       "      <th></th>\n",
       "    </tr>\n",
       "  </thead>\n",
       "  <tbody>\n",
       "    <tr>\n",
       "      <th>5</th>\n",
       "      <th>23</th>\n",
       "      <td>18600</td>\n",
       "      <td>22000</td>\n",
       "      <td>20320.000000</td>\n",
       "    </tr>\n",
       "    <tr>\n",
       "      <th rowspan=\"4\" valign=\"top\">6</th>\n",
       "      <th>227</th>\n",
       "      <td>9860</td>\n",
       "      <td>13650</td>\n",
       "      <td>11755.000000</td>\n",
       "    </tr>\n",
       "    <tr>\n",
       "      <th>504</th>\n",
       "      <td>2000</td>\n",
       "      <td>8920</td>\n",
       "      <td>4042.666667</td>\n",
       "    </tr>\n",
       "    <tr>\n",
       "      <th>628</th>\n",
       "      <td>2600</td>\n",
       "      <td>3190</td>\n",
       "      <td>2797.500000</td>\n",
       "    </tr>\n",
       "    <tr>\n",
       "      <th>845</th>\n",
       "      <td>700</td>\n",
       "      <td>2420</td>\n",
       "      <td>864.626866</td>\n",
       "    </tr>\n",
       "    <tr>\n",
       "      <th>...</th>\n",
       "      <th>...</th>\n",
       "      <td>...</td>\n",
       "      <td>...</td>\n",
       "      <td>...</td>\n",
       "    </tr>\n",
       "    <tr>\n",
       "      <th>11938</th>\n",
       "      <th>126</th>\n",
       "      <td>3000</td>\n",
       "      <td>5350</td>\n",
       "      <td>4204.861111</td>\n",
       "    </tr>\n",
       "    <tr>\n",
       "      <th>12124</th>\n",
       "      <th>1064</th>\n",
       "      <td>6000</td>\n",
       "      <td>7900</td>\n",
       "      <td>6950.000000</td>\n",
       "    </tr>\n",
       "    <tr>\n",
       "      <th>12166</th>\n",
       "      <th>857</th>\n",
       "      <td>5300</td>\n",
       "      <td>5300</td>\n",
       "      <td>5300.000000</td>\n",
       "    </tr>\n",
       "    <tr>\n",
       "      <th rowspan=\"2\" valign=\"top\">12190</th>\n",
       "      <th>639</th>\n",
       "      <td>600</td>\n",
       "      <td>850</td>\n",
       "      <td>688.888889</td>\n",
       "    </tr>\n",
       "    <tr>\n",
       "      <th>8937</th>\n",
       "      <td>9800</td>\n",
       "      <td>9800</td>\n",
       "      <td>9800.000000</td>\n",
       "    </tr>\n",
       "  </tbody>\n",
       "</table>\n",
       "<p>1437 rows × 3 columns</p>\n",
       "</div>"
      ],
      "text/plain": [
       "                 min    max          mean\n",
       "o_city d_city                            \n",
       "5      23      18600  22000  20320.000000\n",
       "6      227      9860  13650  11755.000000\n",
       "       504      2000   8920   4042.666667\n",
       "       628      2600   3190   2797.500000\n",
       "       845       700   2420    864.626866\n",
       "...              ...    ...           ...\n",
       "11938  126      3000   5350   4204.861111\n",
       "12124  1064     6000   7900   6950.000000\n",
       "12166  857      5300   5300   5300.000000\n",
       "12190  639       600    850    688.888889\n",
       "       8937     9800   9800   9800.000000\n",
       "\n",
       "[1437 rows x 3 columns]"
      ]
     },
     "execution_count": 13,
     "metadata": {},
     "output_type": "execute_result"
    }
   ],
   "source": [
    "price_variations = ut.price_stats_per_travel(all_data_trip_distance)\n",
    "price_variations"
   ]
  },
  {
   "cell_type": "markdown",
   "id": "b829d7c8",
   "metadata": {},
   "source": [
    "#### 2 Durée min, max et moyenne par trajet(duration_variations)"
   ]
  },
  {
   "cell_type": "code",
   "execution_count": 14,
   "id": "3adf5187",
   "metadata": {},
   "outputs": [],
   "source": [
    "duration_variations = ut.duration_stats_per_travel(all_data_trip_distance)\n",
    "duration_variations"
   ]
  },
  {
   "cell_type": "markdown",
   "id": "0448eb4f",
   "metadata": {},
   "source": [
    "##### 3 Différence de prix moyen et durée selon le train, le bus et le covoit selon la distance du trajet (0-200km, 201-800km, 800-2000km, 2000+km)"
   ]
  },
  {
   "cell_type": "code",
   "execution_count": 15,
   "id": "7aff3165",
   "metadata": {},
   "outputs": [],
   "source": [
    "moin_de_200km = ut.distance_range(all_data_trip_distance,1)\n",
    "moin_de_200km"
   ]
  },
  {
   "cell_type": "markdown",
   "id": "1368f10c",
   "metadata": {},
   "source": [
    "#### here we shall plot some graphs for a better understanding"
   ]
  },
  {
   "cell_type": "code",
   "execution_count": 16,
   "id": "7e65d23a",
   "metadata": {},
   "outputs": [
    {
     "data": {
      "image/png": "[encoded data removed]",
      "text/plain": [
       "<Figure size 432x288 with 1 Axes>"
      ]
     },
     "metadata": {
      "needs_background": "light"
     },
     "output_type": "display_data"
    }
   ],
   "source": [
    "\n",
    "ut.get_barplot_of_transport_type_duration(moin_de_200km)"
   ]
  },
  {
   "cell_type": "code",
   "execution_count": 17,
   "id": "7e2cd401",
   "metadata": {},
   "outputs": [
    {
     "data": {
      "image/png": "[encoded data removed]",
      "text/plain": [
       "<Figure size 432x288 with 1 Axes>"
      ]
     },
     "metadata": {
      "needs_background": "light"
     },
     "output_type": "display_data"
    }
   ],
   "source": [
    "ut.get_barplot_of_transport_type_price(moin_de_200km)"
   ]
  },
  {
   "cell_type": "code",
   "execution_count": 18,
   "id": "47bddd64",
   "metadata": {},
   "outputs": [],
   "source": [
    "entre200_et_800km = ut.distance_range(all_data_trip_distance,2)\n",
    "entre200_et_800km"
   ]
  },
  {
   "cell_type": "code",
   "execution_count": 19,
   "id": "c5027d08",
   "metadata": {},
   "outputs": [
    {
     "data": {
      "image/png": "[encoded data removed]",
      "text/plain": [
       "<Figure size 432x288 with 1 Axes>"
      ]
     },
     "metadata": {
      "needs_background": "light"
     },
     "output_type": "display_data"
    }
   ],
   "source": [
    "ut.get_barplot_of_transport_type_duration(entre200_et_800km)"
   ]
  },
  {
   "cell_type": "code",
   "execution_count": 20,
   "id": "26b2f549",
   "metadata": {},
   "outputs": [
    {
     "data": {
      "image/png": "[encoded data removed]",
      "text/plain": [
       "<Figure size 432x288 with 1 Axes>"
      ]
     },
     "metadata": {
      "needs_background": "light"
     },
     "output_type": "display_data"
    }
   ],
   "source": [
    "ut.get_barplot_of_transport_type_price(entre200_et_800km)"
   ]
  },
  {
   "cell_type": "code",
   "execution_count": 21,
   "id": "d3e0980f",
   "metadata": {},
   "outputs": [],
   "source": [
    "entre800_et_2000km = ut.distance_range(all_data_trip_distance,3)\n",
    "entre800_et_2000km"
   ]
  },
  {
   "cell_type": "code",
   "execution_count": 22,
   "id": "ecf5a43f",
   "metadata": {},
   "outputs": [
    {
     "data": {
      "image/png": "[encoded data removed]",
      "text/plain": [
       "<Figure size 432x288 with 1 Axes>"
      ]
     },
     "metadata": {
      "needs_background": "light"
     },
     "output_type": "display_data"
    }
   ],
   "source": [
    "ut.get_barplot_of_transport_type_duration(entre800_et_2000km)"
   ]
  },
  {
   "cell_type": "code",
   "execution_count": 23,
   "id": "c62eaca2",
   "metadata": {},
   "outputs": [
    {
     "data": {
      "image/png": "[encoded data removed]",
      "text/plain": [
       "<Figure size 432x288 with 1 Axes>"
      ]
     },
     "metadata": {
      "needs_background": "light"
     },
     "output_type": "display_data"
    }
   ],
   "source": [
    "ut.get_barplot_of_transport_type_price(entre800_et_2000km)"
   ]
  },
  {
   "cell_type": "code",
   "execution_count": 24,
   "id": "80c5ed38",
   "metadata": {},
   "outputs": [
    {
     "data": {
      "text/html": [
       "<div>\n",
       "<style scoped>\n",
       "    .dataframe tbody tr th:only-of-type {\n",
       "        vertical-align: middle;\n",
       "    }\n",
       "\n",
       "    .dataframe tbody tr th {\n",
       "        vertical-align: top;\n",
       "    }\n",
       "\n",
       "    .dataframe thead th {\n",
       "        text-align: right;\n",
       "    }\n",
       "</style>\n",
       "<table border=\"1\" class=\"dataframe\">\n",
       "  <thead>\n",
       "    <tr style=\"text-align: right;\">\n",
       "      <th></th>\n",
       "      <th>city_distance_km</th>\n",
       "      <th>duration_in_hrs</th>\n",
       "      <th>price_in_cents</th>\n",
       "      <th>transport_type</th>\n",
       "    </tr>\n",
       "  </thead>\n",
       "  <tbody>\n",
       "  </tbody>\n",
       "</table>\n",
       "</div>"
      ],
      "text/plain": [
       "Empty DataFrame\n",
       "Columns: [city_distance_km, duration_in_hrs, price_in_cents, transport_type]\n",
       "Index: []"
      ]
     },
     "execution_count": 24,
     "metadata": {},
     "output_type": "execute_result"
    }
   ],
   "source": [
    "ut.distance_range(all_data_trip_distance,4)"
   ]
  },
  {
   "cell_type": "markdown",
   "id": "8231f286",
   "metadata": {},
   "source": [
    "## conclusion\n",
    "    on peut conclure que le transport en train est le moyen de transport le plus cher mais le plus rapide sur les plus longues distances\n",
    "    Le covoiturage est le moyen de transport le plus rapide pour les courtes et moyennes distances et aussi le moins cher pour les courtes et moyennes distances\n",
    "    Le bus est le moyen de transport le plus lent et a son prix le plus bas pour les durées les plus longues"
   ]
  },
  {
   "cell_type": "code",
   "execution_count": null,
   "id": "399f90ea",
   "metadata": {},
   "outputs": [],
   "source": []
  }
 ],
 "metadata": {
  "kernelspec": {
   "display_name": "Python 3",
   "language": "python",
   "name": "python3"
  },
  "language_info": {
   "codemirror_mode": {
    "name": "ipython",
    "version": 3
   },
   "file_extension": ".py",
   "mimetype": "text/x-python",
   "name": "python",
   "nbconvert_exporter": "python",
   "pygments_lexer": "ipython3",
   "version": "3.8.8"
  }
 },
 "nbformat": 4,
 "nbformat_minor": 5
}
